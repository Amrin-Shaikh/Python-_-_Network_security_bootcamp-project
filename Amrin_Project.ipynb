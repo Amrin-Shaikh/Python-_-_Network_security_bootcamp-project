{
  "nbformat": 4,
  "nbformat_minor": 0,
  "metadata": {
    "colab": {
      "name": "Amrin Project.ipynb",
      "provenance": [],
      "collapsed_sections": []
    },
    "kernelspec": {
      "name": "python3",
      "display_name": "Python 3"
    },
    "language_info": {
      "name": "python"
    }
  },
  "cells": [
    {
      "cell_type": "code",
      "metadata": {
        "colab": {
          "base_uri": "https://localhost:8080/"
        },
        "id": "Khb6w_bsj2BH",
        "outputId": "dd510f3f-aefd-40c8-8962-c9c77827d6f0"
      },
      "source": [
        "import hashlib \n",
        " \n",
        "result = hashlib.md5(b'bootcamp') \n",
        "print(\"Hash Value : \", end =\"\")\n",
        "print(result)\n",
        "print(\"The byte equivalent of hash is : \", end =\"\") \n",
        "print(result.digest()) "
      ],
      "execution_count": 8,
      "outputs": [
        {
          "output_type": "stream",
          "text": [
            "Hash Value : <md5 HASH object @ 0x7f5cd6058780>\n",
            "The byte equivalent of hash is : b':\\xfc\\xec\\xf8\\xd4G\\xa6(\\x9b\\xddH\\x04(l\\x9c\\x86'\n"
          ],
          "name": "stdout"
        }
      ]
    },
    {
      "cell_type": "code",
      "metadata": {
        "colab": {
          "base_uri": "https://localhost:8080/"
        },
        "id": "LLiupQPuo67H",
        "outputId": "cf461d8d-9bbb-43a7-f834-c4cab2a9ba24"
      },
      "source": [
        "# SHA1\n",
        "\n",
        "import hashlib\n",
        "\n",
        "hash_object = hashlib.sha1(b'Hello World')\n",
        "hex_dig = hash_object.hexdigest()\n",
        "print(hex_dig)"
      ],
      "execution_count": 14,
      "outputs": [
        {
          "output_type": "stream",
          "text": [
            "0a4d55a8d778e5022fab701977c5d840bbc486d0\n"
          ],
          "name": "stdout"
        }
      ]
    },
    {
      "cell_type": "code",
      "metadata": {
        "id": "FST2kstwpZf_"
      },
      "source": [
        "import hashlib\n",
        "\n",
        "hash_object = hashlib.sha256(b'Hello World')\n",
        "hex_dig = hash_object.hexdigest()\n",
        "print(hex_dig)"
      ],
      "execution_count": null,
      "outputs": []
    },
    {
      "cell_type": "code",
      "metadata": {
        "colab": {
          "base_uri": "https://localhost:8080/"
        },
        "id": "_lBBcq7PpHc1",
        "outputId": "c6c4dc81-02fd-4c90-cc5b-89940c48eeb5"
      },
      "source": [
        "# SHA224\n",
        "\n",
        "import hashlib\n",
        "\n",
        "hash_object = hashlib.sha224(b'Hello World')\n",
        "hex_dig = hash_object.hexdigest()\n",
        "print(hex_dig)"
      ],
      "execution_count": 16,
      "outputs": [
        {
          "output_type": "stream",
          "text": [
            "c4890faffdb0105d991a461e668e276685401b02eab1ef4372795047\n"
          ],
          "name": "stdout"
        }
      ]
    },
    {
      "cell_type": "code",
      "metadata": {
        "colab": {
          "base_uri": "https://localhost:8080/"
        },
        "id": "FZWbSv8NkF8U",
        "outputId": "567aa2ef-f484-4c00-ec30-9a91a87ff39c"
      },
      "source": [
        "import hashlib \n",
        " \n",
        "result = hashlib.md5('Bootcamp for Python'.encode()) \n",
        "print(\"Hash Value : \", end =\"\")\n",
        "print(result)\n",
        "print(\"Hexadecimal Equivalent : \", end =\"\") \n",
        "print(result.hexdigest()) "
      ],
      "execution_count": 10,
      "outputs": [
        {
          "output_type": "stream",
          "text": [
            "Hash Value : <md5 HASH object @ 0x7f5cd6058840>\n",
            "Hexadecimal Equivalent : 97d3c9ff5ea66ed78e04004d3524538d\n"
          ],
          "name": "stdout"
        }
      ]
    },
    {
      "cell_type": "code",
      "metadata": {
        "colab": {
          "base_uri": "https://localhost:8080/"
        },
        "id": "idSfkdgjkLu-",
        "outputId": "55277294-5f71-4fda-eb32-8094acd19544"
      },
      "source": [
        "import hashlib \n",
        "\n",
        "string = \"Bootcamp for Python.com\"\n",
        "encoded=string.encode()\n",
        "result = hashlib.md5(encoded)\n",
        "print(\"String : \", end =\"\")\n",
        "print(string)\n",
        "print(\"Hash Value : \", end =\"\")\n",
        "print(result)\n",
        "print(\"Hexadecimal equivalent: \",result.hexdigest())"
      ],
      "execution_count": 9,
      "outputs": [
        {
          "output_type": "stream",
          "text": [
            "String : Bootcamp for Python.com\n",
            "Hash Value : <md5 HASH object @ 0x7f5cd6058300>\n",
            "Hexadecimal equivalent:  006466a4131a19b7c8e54c46fecc10f0\n"
          ],
          "name": "stdout"
        }
      ]
    },
    {
      "cell_type": "code",
      "metadata": {
        "colab": {
          "base_uri": "https://localhost:8080/"
        },
        "id": "1KCSnVqRmOCu",
        "outputId": "f5612725-9cd3-4676-fb4a-e8a21767a321"
      },
      "source": [
        "import hashlib\n",
        "\n",
        "#using hexdigest()\n",
        "print(hashlib.md5(\"This is a string\".encode('utf-8')).hexdigest())\n",
        "print(hashlib.md5(\"000005fab4534dfrhrtrb9a055eb014e4e5d52write\".encode('utf-8')).hexdigest())\n",
        "\n",
        "#using digest()\n",
        "print(hashlib.md5(\"This is a string\".encode('utf-8')).digest())\n",
        "print(hashlib.md5(\"000005fab4534d05kdfjldsleb014e4e5d52write\".encode('utf-8')).digest())"
      ],
      "execution_count": 11,
      "outputs": [
        {
          "output_type": "stream",
          "text": [
            "41fb5b5ae4d57c5ee528adb00e5e8e74\n",
            "5bef9525c78f525ebb50f89912859e27\n",
            "b'A\\xfb[Z\\xe4\\xd5|^\\xe5(\\xad\\xb0\\x0e^\\x8et'\n",
            "b'd\\x95\\xe28\\x04\\x0c\\x03\\xe7E\\xdf\\x0esi*\\xfb`'\n"
          ],
          "name": "stdout"
        }
      ]
    },
    {
      "cell_type": "code",
      "metadata": {
        "colab": {
          "base_uri": "https://localhost:8080/"
        },
        "id": "W0K2UNViobQH",
        "outputId": "f4aa7c7d-5de6-4f4c-d165-1a19c8147381"
      },
      "source": [
        "from hashlib import blake2b\n",
        "blake2b(b'Hello world').hexdigest()\n",
        "\n",
        "from hashlib import blake2b\n",
        "h = blake2b(digest_size=20)\n",
        "h.update(b'Replacing SHA1 with the more secure function')\n",
        "h.hexdigest()\n",
        "\n",
        "h.digest_size\n",
        "\n",
        "len(h.digest())\n"
      ],
      "execution_count": 13,
      "outputs": [
        {
          "output_type": "execute_result",
          "data": {
            "text/plain": [
              "20"
            ]
          },
          "metadata": {
            "tags": []
          },
          "execution_count": 13
        }
      ]
    },
    {
      "cell_type": "code",
      "metadata": {
        "colab": {
          "base_uri": "https://localhost:8080/"
        },
        "id": "WRUkBESopx87",
        "outputId": "f1410a68-3476-43e3-8119-4f6b0dfe77a9"
      },
      "source": [
        "import uuid\n",
        "import hashlib\n",
        " \n",
        "def hash_password(password):\n",
        "    # uuid is used to generate a random number\n",
        "    salt = uuid.uuid4().hex\n",
        "    return hashlib.sha256(salt.encode() + password.encode()).hexdigest() + ':' + salt\n",
        "    \n",
        "def check_password(hashed_password, user_password):\n",
        "    password, salt = hashed_password.split(':')\n",
        "    return password == hashlib.sha256(salt.encode() + user_password.encode()).hexdigest()\n",
        " \n",
        "new_pass = input('Please enter a password: ')\n",
        "hashed_password = hash_password(new_pass)\n",
        "print('The string to store in the db is: ' + hashed_password)\n",
        "old_pass = input('Now please enter the password again to check: ')\n",
        "if check_password(hashed_password, old_pass):\n",
        "    print('You entered the right password')\n",
        "else:\n",
        "    print('I am sorry but the password does not match')"
      ],
      "execution_count": 15,
      "outputs": [
        {
          "output_type": "stream",
          "text": [
            "Please enter a password: *12345\n",
            "The string to store in the db is: e0c461b781654274a0f9c4b2666612d2ed1d2f2f02961ce752d5751fac6b84d5:dc4029c165764217bcec2f38d36da572\n",
            "Now please enter the password again to check: *12345\n",
            "You entered the right password\n"
          ],
          "name": "stdout"
        }
      ]
    }
  ]
}